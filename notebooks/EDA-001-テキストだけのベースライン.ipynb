{
 "cells": [
  {
   "cell_type": "code",
   "execution_count": 46,
   "metadata": {},
   "outputs": [],
   "source": [
    "import glob\n",
    "import json\n",
    "import os\n",
    "import pickle\n",
    "import unicodedata\n",
    "\n",
    "from sudachipy import tokenizer\n",
    "from sudachipy import dictionary\n",
    "\n",
    "import numpy as np\n",
    "import pandas as pd\n",
    "from sklearn.feature_extraction.text import TfidfVectorizer\n",
    "from sklearn.svm import SVC\n",
    "from sklearn.decomposition import TruncatedSVD\n",
    "from sklearn.pipeline import Pipeline\n",
    "from sklearn.calibration import CalibratedClassifierCV\n",
    "from sklearn.metrics import log_loss\n",
    "from tqdm.auto import tqdm\n",
    "%matplotlib inline"
   ]
  },
  {
   "cell_type": "code",
   "execution_count": 31,
   "metadata": {},
   "outputs": [],
   "source": [
    "pd.options.display.max_rows = pd.options.display.max_columns = 50\n",
    "pd.options.display.float_format = '{:.3f}'.format"
   ]
  },
  {
   "cell_type": "code",
   "execution_count": 32,
   "metadata": {},
   "outputs": [],
   "source": [
    "OUTPUT_DIR = os.path.join('..', 'data', 'eda-001')\n",
    "os.makedirs(OUTPUT_DIR, exist_ok=True)"
   ]
  },
  {
   "cell_type": "code",
   "execution_count": 33,
   "metadata": {},
   "outputs": [],
   "source": [
    "INPUT_DIR = os.path.join(os.path.expanduser('~'), 'datasets', 'nishika', 'bokete')\n",
    "assert os.path.isdir(INPUT_DIR)\n",
    "train = pd.read_csv(os.path.join(INPUT_DIR, 'train.csv'))\n",
    "test = pd.read_csv(os.path.join(INPUT_DIR, 'test.csv'))\n",
    "sample_submission = pd.read_csv(os.path.join(INPUT_DIR, 'sample_submission.csv'))"
   ]
  },
  {
   "cell_type": "code",
   "execution_count": 34,
   "metadata": {},
   "outputs": [
    {
     "data": {
      "text/html": [
       "<div>\n",
       "<style scoped>\n",
       "    .dataframe tbody tr th:only-of-type {\n",
       "        vertical-align: middle;\n",
       "    }\n",
       "\n",
       "    .dataframe tbody tr th {\n",
       "        vertical-align: top;\n",
       "    }\n",
       "\n",
       "    .dataframe thead th {\n",
       "        text-align: right;\n",
       "    }\n",
       "</style>\n",
       "<table border=\"1\" class=\"dataframe\">\n",
       "  <thead>\n",
       "    <tr style=\"text-align: right;\">\n",
       "      <th></th>\n",
       "      <th>odai_photo_file_name</th>\n",
       "      <th>oof_fold</th>\n",
       "    </tr>\n",
       "  </thead>\n",
       "  <tbody>\n",
       "    <tr>\n",
       "      <th>0</th>\n",
       "      <td>9fkys1gb2r.jpg</td>\n",
       "      <td>4</td>\n",
       "    </tr>\n",
       "    <tr>\n",
       "      <th>1</th>\n",
       "      <td>c6ag0m1lak.jpg</td>\n",
       "      <td>3</td>\n",
       "    </tr>\n",
       "    <tr>\n",
       "      <th>2</th>\n",
       "      <td>whtn6gb9ww.jpg</td>\n",
       "      <td>3</td>\n",
       "    </tr>\n",
       "    <tr>\n",
       "      <th>3</th>\n",
       "      <td>6yk5cwmrsy.jpg</td>\n",
       "      <td>0</td>\n",
       "    </tr>\n",
       "    <tr>\n",
       "      <th>4</th>\n",
       "      <td>0i9gsa2jsm.jpg</td>\n",
       "      <td>4</td>\n",
       "    </tr>\n",
       "    <tr>\n",
       "      <th>...</th>\n",
       "      <td>...</td>\n",
       "      <td>...</td>\n",
       "    </tr>\n",
       "    <tr>\n",
       "      <th>24957</th>\n",
       "      <td>5ctq9ohpge.jpg</td>\n",
       "      <td>3</td>\n",
       "    </tr>\n",
       "    <tr>\n",
       "      <th>24958</th>\n",
       "      <td>dcj9pepjwf.jpg</td>\n",
       "      <td>1</td>\n",
       "    </tr>\n",
       "    <tr>\n",
       "      <th>24959</th>\n",
       "      <td>ks04y4iy7i.jpg</td>\n",
       "      <td>2</td>\n",
       "    </tr>\n",
       "    <tr>\n",
       "      <th>24960</th>\n",
       "      <td>cgfkktchbz.jpg</td>\n",
       "      <td>4</td>\n",
       "    </tr>\n",
       "    <tr>\n",
       "      <th>24961</th>\n",
       "      <td>jwulli1cmi.jpg</td>\n",
       "      <td>0</td>\n",
       "    </tr>\n",
       "  </tbody>\n",
       "</table>\n",
       "<p>24962 rows × 2 columns</p>\n",
       "</div>"
      ],
      "text/plain": [
       "      odai_photo_file_name  oof_fold\n",
       "0           9fkys1gb2r.jpg         4\n",
       "1           c6ag0m1lak.jpg         3\n",
       "2           whtn6gb9ww.jpg         3\n",
       "3           6yk5cwmrsy.jpg         0\n",
       "4           0i9gsa2jsm.jpg         4\n",
       "...                    ...       ...\n",
       "24957       5ctq9ohpge.jpg         3\n",
       "24958       dcj9pepjwf.jpg         1\n",
       "24959       ks04y4iy7i.jpg         2\n",
       "24960       cgfkktchbz.jpg         4\n",
       "24961       jwulli1cmi.jpg         0\n",
       "\n",
       "[24962 rows x 2 columns]"
      ]
     },
     "execution_count": 34,
     "metadata": {},
     "output_type": "execute_result"
    }
   ],
   "source": [
    "cv = pd.read_csv(os.path.join('..', 'fold', 'cv.csv'))\n",
    "cv"
   ]
  },
  {
   "cell_type": "code",
   "execution_count": 35,
   "metadata": {},
   "outputs": [],
   "source": [
    "words_to_be_removed = ('\\t', '\\n')\n",
    "\n",
    "def normalize(text: str) -> str:\n",
    "    text = unicodedata.normalize('NFKC', text.strip().lower())\n",
    "    for w in words_to_be_removed:\n",
    "        text = text.replace(w, '')\n",
    "    return text"
   ]
  },
  {
   "cell_type": "code",
   "execution_count": 36,
   "metadata": {},
   "outputs": [],
   "source": [
    "train['normalized_text'] = np.vectorize(normalize)(train['text'])\n",
    "test['normalized_text'] = np.vectorize(normalize)(test['text'])"
   ]
  },
  {
   "cell_type": "code",
   "execution_count": 37,
   "metadata": {},
   "outputs": [
    {
     "name": "stderr",
     "output_type": "stream",
     "text": [
      "C:\\Users\\nndropout\\AppData\\Local\\Temp\\ipykernel_16076\\2245218798.py:2: DeprecationWarning: Parameter dict_type of Dictionary() is deprecated, use dict instead\n",
      "  sudachi_tokenizer = dictionary.Dictionary(dict_type='full').create()\n"
     ]
    }
   ],
   "source": [
    "pof_exclude = ('助詞', '補助記号', '接尾辞', '接頭辞', '空白', '記号')\n",
    "sudachi_tokenizer = dictionary.Dictionary(dict_type='full').create()\n",
    "mode = tokenizer.Tokenizer.SplitMode.C\n",
    "def analyze_fn(text: str) -> list:\n",
    "    features = []\n",
    "    morpheme_list = sudachi_tokenizer.tokenize(text)\n",
    "    for m in morpheme_list:\n",
    "        if m.surface() and m.part_of_speech()[0] not in pof_exclude:\n",
    "            features.append(m.dictionary_form())\n",
    "    return features"
   ]
  },
  {
   "cell_type": "code",
   "execution_count": 38,
   "metadata": {},
   "outputs": [
    {
     "data": {
      "application/vnd.jupyter.widget-view+json": {
       "model_id": "2441074b9ddb43de869ca340f5b7ae91",
       "version_major": 2,
       "version_minor": 0
      },
      "text/plain": [
       "  0%|          | 0/5 [00:00<?, ?it/s]"
      ]
     },
     "metadata": {},
     "output_type": "display_data"
    },
    {
     "name": "stdout",
     "output_type": "stream",
     "text": [
      "Fold 0: Training loss=0.62220, Validation loss=0.67628\n",
      "Fold 1: Training loss=0.60800, Validation loss=0.67519\n",
      "Fold 2: Training loss=0.60613, Validation loss=0.67594\n",
      "Fold 3: Training loss=0.61362, Validation loss=0.67754\n",
      "Fold 4: Training loss=0.58839, Validation loss=0.68031\n",
      "CPU times: total: 5min 19s\n",
      "Wall time: 6min 59s\n"
     ]
    },
    {
     "data": {
      "text/plain": [
       "(0.6076661109109895, 0.6770509876649471)"
      ]
     },
     "execution_count": 38,
     "metadata": {},
     "output_type": "execute_result"
    }
   ],
   "source": [
    "%%time\n",
    "prediction_train = []\n",
    "prediction_valid = []\n",
    "metrics = {'train_loss': [], 'valid_loss': []}\n",
    "models = []\n",
    "\n",
    "for oof_fold, fold_df in tqdm(cv.groupby('oof_fold')):\n",
    "\n",
    "    mask = train['odai_photo_file_name'].isin(fold_df['odai_photo_file_name'])\n",
    "    X_train = train.loc[mask, 'normalized_text']\n",
    "    y_train = train.loc[mask, 'is_laugh']\n",
    "    X_valid = train.loc[~mask, 'normalized_text']\n",
    "    y_valid = train.loc[~mask, 'is_laugh']\n",
    "\n",
    "    model = Pipeline(\n",
    "        steps=[\n",
    "            ('vectorizer', TfidfVectorizer(analyzer=analyze_fn, min_df=10, max_df=5000)),\n",
    "            ('decomposer', TruncatedSVD(n_components=100, random_state=422)),\n",
    "            ('classifier', CalibratedClassifierCV(SVC(random_state=293847), method='isotonic', n_jobs=-1, cv=5))\n",
    "        ]\n",
    "    ).fit(X_train, y_train)\n",
    "    models.append(model)\n",
    "\n",
    "    pred_train = model.predict_proba(X_train)[:, -1]\n",
    "    pred_valid = model.predict_proba(X_valid)[:, -1]\n",
    "    loss_train = log_loss(y_train, pred_train)\n",
    "    loss_valid = log_loss(y_valid, pred_valid)\n",
    "\n",
    "    metrics['train_loss'].append(loss_train)\n",
    "    metrics['valid_loss'].append(loss_valid)\n",
    "\n",
    "    prediction_train_ = pd.DataFrame({\n",
    "        'id': train.loc[mask, 'id'].to_numpy(),\n",
    "        'probability': pred_train\n",
    "    })\n",
    "    prediction_train.append(prediction_train_)\n",
    "\n",
    "    prediction_valid_ = pd.DataFrame({\n",
    "        'id': train.loc[~mask, 'id'].to_numpy(),\n",
    "        'probability': pred_valid\n",
    "    })\n",
    "    prediction_valid.append(prediction_valid_)\n",
    "\n",
    "    print(f'Fold {oof_fold}: Training loss={loss_train:.5f}, Validation loss={loss_valid:.5f}')\n",
    "\n",
    "prediction_train = pd.concat(prediction_train)\n",
    "prediction_valid = pd.concat(prediction_valid)\n",
    "np.mean(metrics['train_loss']), np.mean(metrics['valid_loss'])"
   ]
  },
  {
   "cell_type": "code",
   "execution_count": 39,
   "metadata": {},
   "outputs": [],
   "source": [
    "with open(os.path.join(OUTPUT_DIR, 'result.json'), 'w') as f:\n",
    "    json.dump(metrics, f)"
   ]
  },
  {
   "cell_type": "code",
   "execution_count": 40,
   "metadata": {},
   "outputs": [],
   "source": [
    "with open(os.path.join(OUTPUT_DIR, 'models'), 'wb') as f:\n",
    "    pickle.dump(models, f)"
   ]
  },
  {
   "cell_type": "code",
   "execution_count": 41,
   "metadata": {},
   "outputs": [],
   "source": [
    "prediction_train.to_csv(os.path.join(OUTPUT_DIR, 'prediction_train.csv'), index=False)\n",
    "prediction_valid.to_csv(os.path.join(OUTPUT_DIR, 'prediction_valid.csv'), index=False)"
   ]
  },
  {
   "cell_type": "code",
   "execution_count": 42,
   "metadata": {},
   "outputs": [
    {
     "data": {
      "text/plain": [
       "id\n",
       "00256fqr5   0.522\n",
       "00dg8czme   0.493\n",
       "00kwnamds   0.521\n",
       "00wegkbsp   0.352\n",
       "02bo41c14   0.375\n",
       "             ... \n",
       "zzbeh6ptp   0.560\n",
       "zzbme8old   0.622\n",
       "zzksgrtmg   0.352\n",
       "zzv1jjbke   0.448\n",
       "zzweow5o7   0.352\n",
       "Name: probability, Length: 6000, dtype: float64"
      ]
     },
     "execution_count": 42,
     "metadata": {},
     "output_type": "execute_result"
    }
   ],
   "source": [
    "prediction_test = []\n",
    "for model in models:\n",
    "    pred_test = model.predict_proba(test['normalized_text'])[:, -1]\n",
    "    prediction_test_ = pd.DataFrame({\n",
    "        'id': test['id'].to_numpy(),\n",
    "        'probability': pred_test\n",
    "    })\n",
    "    prediction_test.append(prediction_test_)\n",
    "\n",
    "prediction = pd.concat(prediction_test).groupby('id')['probability'].mean()\n",
    "prediction"
   ]
  },
  {
   "cell_type": "code",
   "execution_count": 43,
   "metadata": {},
   "outputs": [
    {
     "data": {
      "text/html": [
       "<div>\n",
       "<style scoped>\n",
       "    .dataframe tbody tr th:only-of-type {\n",
       "        vertical-align: middle;\n",
       "    }\n",
       "\n",
       "    .dataframe tbody tr th {\n",
       "        vertical-align: top;\n",
       "    }\n",
       "\n",
       "    .dataframe thead th {\n",
       "        text-align: right;\n",
       "    }\n",
       "</style>\n",
       "<table border=\"1\" class=\"dataframe\">\n",
       "  <thead>\n",
       "    <tr style=\"text-align: right;\">\n",
       "      <th></th>\n",
       "      <th>id</th>\n",
       "      <th>is_laugh</th>\n",
       "    </tr>\n",
       "  </thead>\n",
       "  <tbody>\n",
       "    <tr>\n",
       "      <th>0</th>\n",
       "      <td>rfdjcfsqq</td>\n",
       "      <td>0.550</td>\n",
       "    </tr>\n",
       "    <tr>\n",
       "      <th>1</th>\n",
       "      <td>tsgqmfpef</td>\n",
       "      <td>0.484</td>\n",
       "    </tr>\n",
       "    <tr>\n",
       "      <th>2</th>\n",
       "      <td>owjcthkz2</td>\n",
       "      <td>0.352</td>\n",
       "    </tr>\n",
       "    <tr>\n",
       "      <th>3</th>\n",
       "      <td>rvgaocjyy</td>\n",
       "      <td>0.426</td>\n",
       "    </tr>\n",
       "    <tr>\n",
       "      <th>4</th>\n",
       "      <td>uxtwu5i69</td>\n",
       "      <td>0.519</td>\n",
       "    </tr>\n",
       "    <tr>\n",
       "      <th>...</th>\n",
       "      <td>...</td>\n",
       "      <td>...</td>\n",
       "    </tr>\n",
       "    <tr>\n",
       "      <th>5995</th>\n",
       "      <td>vx1lpzark</td>\n",
       "      <td>0.517</td>\n",
       "    </tr>\n",
       "    <tr>\n",
       "      <th>5996</th>\n",
       "      <td>y9sugbhm8</td>\n",
       "      <td>0.670</td>\n",
       "    </tr>\n",
       "    <tr>\n",
       "      <th>5997</th>\n",
       "      <td>dsd1yixzk</td>\n",
       "      <td>0.499</td>\n",
       "    </tr>\n",
       "    <tr>\n",
       "      <th>5998</th>\n",
       "      <td>vmyopn0mu</td>\n",
       "      <td>0.408</td>\n",
       "    </tr>\n",
       "    <tr>\n",
       "      <th>5999</th>\n",
       "      <td>sveiueszw</td>\n",
       "      <td>0.524</td>\n",
       "    </tr>\n",
       "  </tbody>\n",
       "</table>\n",
       "<p>6000 rows × 2 columns</p>\n",
       "</div>"
      ],
      "text/plain": [
       "             id  is_laugh\n",
       "0     rfdjcfsqq     0.550\n",
       "1     tsgqmfpef     0.484\n",
       "2     owjcthkz2     0.352\n",
       "3     rvgaocjyy     0.426\n",
       "4     uxtwu5i69     0.519\n",
       "...         ...       ...\n",
       "5995  vx1lpzark     0.517\n",
       "5996  y9sugbhm8     0.670\n",
       "5997  dsd1yixzk     0.499\n",
       "5998  vmyopn0mu     0.408\n",
       "5999  sveiueszw     0.524\n",
       "\n",
       "[6000 rows x 2 columns]"
      ]
     },
     "execution_count": 43,
     "metadata": {},
     "output_type": "execute_result"
    }
   ],
   "source": [
    "sample_submission['is_laugh'] = prediction.loc[sample_submission['id']].to_numpy()\n",
    "sample_submission"
   ]
  },
  {
   "cell_type": "code",
   "execution_count": 47,
   "metadata": {},
   "outputs": [
    {
     "data": {
      "text/plain": [
       "count   6000.000\n",
       "mean       0.502\n",
       "std        0.091\n",
       "min        0.242\n",
       "25%        0.436\n",
       "50%        0.514\n",
       "75%        0.568\n",
       "max        0.805\n",
       "Name: is_laugh, dtype: float64"
      ]
     },
     "execution_count": 47,
     "metadata": {},
     "output_type": "execute_result"
    },
    {
     "data": {
      "image/png": "[encoded data removed]",
      "text/plain": [
       "<Figure size 640x480 with 1 Axes>"
      ]
     },
     "metadata": {},
     "output_type": "display_data"
    }
   ],
   "source": [
    "sample_submission['is_laugh'].hist()\n",
    "sample_submission['is_laugh'].describe()"
   ]
  },
  {
   "cell_type": "code",
   "execution_count": 48,
   "metadata": {},
   "outputs": [],
   "source": [
    "sample_submission.to_csv(os.path.join(OUTPUT_DIR, f'submission_{os.path.split(OUTPUT_DIR)[-1]}.csv'), index=False)"
   ]
  }
 ],
 "metadata": {
  "kernelspec": {
   "display_name": "Python 3.9.13 ('.venv': venv)",
   "language": "python",
   "name": "python3"
  },
  "language_info": {
   "codemirror_mode": {
    "name": "ipython",
    "version": 3
   },
   "file_extension": ".py",
   "mimetype": "text/x-python",
   "name": "python",
   "nbconvert_exporter": "python",
   "pygments_lexer": "ipython3",
   "version": "3.9.13"
  },
  "orig_nbformat": 4,
  "vscode": {
   "interpreter": {
    "hash": "11833555c2c328071f692608f1cfa9813f6357ddd8a958868fa81c324a905a41"
   }
  }
 },
 "nbformat": 4,
 "nbformat_minor": 2
}
